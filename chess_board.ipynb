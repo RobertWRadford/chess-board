{
 "metadata": {
  "language_info": {
   "codemirror_mode": {
    "name": "ipython",
    "version": 3
   },
   "file_extension": ".py",
   "mimetype": "text/x-python",
   "name": "python",
   "nbconvert_exporter": "python",
   "pygments_lexer": "ipython3",
   "version": "3.8.5-final"
  },
  "orig_nbformat": 2,
  "kernelspec": {
   "name": "python3",
   "display_name": "Python 3"
  }
 },
 "nbformat": 4,
 "nbformat_minor": 2,
 "cells": [
  {
   "cell_type": "code",
   "execution_count": 3,
   "metadata": {},
   "outputs": [
    {
     "output_type": "error",
     "ename": "ModuleNotFoundError",
     "evalue": "No module named 'numpy'",
     "traceback": [
      "\u001b[0;31m---------------------------------------------------------------------------\u001b[0m",
      "\u001b[0;31mModuleNotFoundError\u001b[0m                       Traceback (most recent call last)",
      "\u001b[0;32m<ipython-input-3-e0e1492b7973>\u001b[0m in \u001b[0;36m<module>\u001b[0;34m\u001b[0m\n\u001b[0;32m----> 1\u001b[0;31m \u001b[0;32mimport\u001b[0m \u001b[0mnumpy\u001b[0m \u001b[0;32mas\u001b[0m \u001b[0mnp\u001b[0m\u001b[0;34m\u001b[0m\u001b[0;34m\u001b[0m\u001b[0m\n\u001b[0m\u001b[1;32m      2\u001b[0m \u001b[0;32mimport\u001b[0m \u001b[0mmatplotlib\u001b[0m\u001b[0;34m.\u001b[0m\u001b[0mpyplot\u001b[0m \u001b[0;32mas\u001b[0m \u001b[0mplt\u001b[0m\u001b[0;34m\u001b[0m\u001b[0;34m\u001b[0m\u001b[0m\n",
      "\u001b[0;31mModuleNotFoundError\u001b[0m: No module named 'numpy'"
     ]
    }
   ],
   "source": [
    "import numpy as np\n",
    "import matplotlib.pyplot as plt\n"
   ]
  },
  {
   "source": [
    "class ChessBoard():\n",
    "\n",
    "    def __init__(self):\n",
    "        self.red = None\n",
    "        self.blue = None\n",
    "        self.grid = np.zeros((8, 8, 4))\n",
    "        white_tile = True\n",
    "        for i in range(8):\n",
    "            for j in range(8):\n",
    "                if white_tile:\n",
    "                    self.grid[i][j] = (1, 1, 1, .5)\n",
    "                    white_tile = False\n",
    "                else:\n",
    "                    cself.grid[i][j] = (0, 0, 0, .5)\n",
    "                    white_tile = True\n",
    "\n",
    "    def render(self):\n",
    "        plt.imshow(self.grid)\n",
    "\n",
    "    def add_red(self, row, column):\n",
    "        self.grid[row][column] = (1, 0, 0, .5)\n",
    "        self.red = [row, column]\n",
    "    \n",
    "    def add_blue(self, row, column):\n",
    "        self.grid[row][column] = (0, 0, 1, .5)\n",
    "        self.blue = [row, column]\n",
    "\n",
    "    def is_under_attack(self):\n",
    "        if not self.red or not self.blue:\n",
    "            raise TypeError\n",
    "        if red[0] == blue[0] or red[1] == blue[1] or abs(red[0]-blue[0]) == abs(red[1]-blue[1]):\n",
    "            return True\n",
    "        else:\n",
    "            return False\n"
   ],
   "cell_type": "code",
   "metadata": {},
   "execution_count": null,
   "outputs": []
  },
  {
   "cell_type": "code",
   "execution_count": null,
   "metadata": {},
   "outputs": [],
   "source": [
    "checkered = ChessBoard()\n",
    "checkered.render()"
   ]
  }
 ]
}